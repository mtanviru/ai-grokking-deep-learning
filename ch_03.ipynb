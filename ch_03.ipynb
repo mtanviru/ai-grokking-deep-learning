{
 "cells": [
  {
   "cell_type": "code",
   "execution_count": 2,
   "id": "61e07711-77bb-4567-8946-597ec605cbd6",
   "metadata": {},
   "outputs": [
    {
     "name": "stdout",
     "output_type": "stream",
     "text": [
      "0.9800000000000001\n"
     ]
    }
   ],
   "source": [
    "def w_sum(input, weights):\n",
    "    return sum( i*w for i, w in zip(input, weights, strict=True) )\n",
    "\n",
    "def nn(input, weight):\n",
    "    return w_sum(input, weight)\n",
    "\n",
    "weights = [0.1, 0.2, 0]\n",
    "\n",
    "toes = [8.5, 9.5, 9.9, 9.0]\n",
    "wlrec = [0.65, 0.8, 0.8, 0.9]\n",
    "nfans = [1.2, 1.3, 0.5, 1.0]\n",
    "\n",
    "input = [toes[0], wlrec[0], nfans[0]]\n",
    "# The more the input vector is alighed with the weight vector,\n",
    "# the higher is the pred.\n",
    "pred = nn(input, weights)\n",
    "print(pred)"
   ]
  },
  {
   "cell_type": "code",
   "execution_count": 1,
   "id": "81e9baf1-1287-443c-887c-e8a7c64c8b33",
   "metadata": {},
   "outputs": [
    {
     "name": "stdout",
     "output_type": "stream",
     "text": [
      "[0, 10, 6]\n",
      "[1, 7, 5]\n",
      "6\n",
      "2.0\n"
     ]
    }
   ],
   "source": [
    "def ew_mul(v1, v2):\n",
    "    return [a * b for a, b in zip(v1, v2, strict=True)]\n",
    "\n",
    "def ew_add(v1, v2):\n",
    "    return [a+b for a, b in zip(v1, v2, strict=True)]\n",
    "\n",
    "def vec_sum(v):\n",
    "    return sum(v)\n",
    "\n",
    "def vec_avg(v):\n",
    "    assert len(v) > 0\n",
    "    return sum(v)/len(v)\n",
    "\n",
    "v1 = [1, 2, 3]\n",
    "v2 = [0, 5, 2]\n",
    "\n",
    "print(ew_mul(v1, v2))\n",
    "print(ew_add(v1, v2))\n",
    "\n",
    "print(vec_sum([1, 2, 3]))\n",
    "print(vec_avg([1, 2, 3]))"
   ]
  },
  {
   "cell_type": "markdown",
   "id": "44916a16-1117-402e-8550-c03038336c8e",
   "metadata": {},
   "source": [
    "Dot product is a measure of similarity between two vectors. The more the two vectors are pointing towards the same direction, the higher is their dot product."
   ]
  },
  {
   "cell_type": "code",
   "execution_count": 4,
   "id": "48b60df2-c318-4c7a-adf3-a4019218a800",
   "metadata": {},
   "outputs": [
    {
     "name": "stdout",
     "output_type": "stream",
     "text": [
      "pred=np.float64(0.9800000000000001)\n"
     ]
    }
   ],
   "source": [
    "import numpy as np\n",
    "weights = np.array([0.1, 0.2, 0])\n",
    "\n",
    "def nn(input, weights):\n",
    "    return input.dot(weights)\n",
    "\n",
    "\n",
    "toes = [8.5, 9.5, 9.9, 9.0]\n",
    "wlrec = [0.65, 0.8, 0.8, 0.9]\n",
    "nfans = [1.2, 1.3, 0.5, 1.0]\n",
    "\n",
    "input = np.array([toes[0], wlrec[0], nfans[0]])\n",
    "pred = nn(input, weights)\n",
    "print(f\"{pred=}\")"
   ]
  },
  {
   "cell_type": "code",
   "execution_count": 11,
   "id": "6ae4f6d3-7b4a-4941-aa88-08bf9ee0f699",
   "metadata": {},
   "outputs": [
    {
     "name": "stdout",
     "output_type": "stream",
     "text": [
      "preds=[0.5550000000000002, 0.9800000000000001, 0.9650000000000001]\n"
     ]
    }
   ],
   "source": [
    "def nn2(input, weight_matrix):\n",
    "    return [\n",
    "        sum(i * w for i, w in zip(input, weight)) for weight in weight_matrix\n",
    "    ]\n",
    "\n",
    "weight_matrix = [\n",
    "    [0.1, 0.1, -0.3], # a row is for a single output\n",
    "    [0.1, 0.2, 0.0],\n",
    "    [0.0, 1.3, 0.1]\n",
    "]\n",
    "\n",
    "input = [toes[0], wlrec[0], nfans[0]]\n",
    "\n",
    "preds = nn2(input, weight_matrix)\n",
    "print(f\"{preds=}\")"
   ]
  },
  {
   "cell_type": "code",
   "execution_count": 24,
   "id": "3bc570e7-763c-4eca-83cc-1893966ddea0",
   "metadata": {},
   "outputs": [
    {
     "name": "stdout",
     "output_type": "stream",
     "text": [
      "predictions=[0.21350000000000002, 0.14500000000000002, 0.5065]\n"
     ]
    }
   ],
   "source": [
    "# hidden layer outputs become inputs to output layer\n",
    "def nn3(input, layers):\n",
    "    hidden_layer_output = nn2(input, layers[0])\n",
    "    return nn2(hidden_layer_output, layers[1])\n",
    "\n",
    "hidden_layer = [\n",
    "    [0.1, 0.2, -0.1],\n",
    "    [-0.1, 0.1, 0.9],\n",
    "    [0.1, 0.4, 0.1]\n",
    "]\n",
    "\n",
    "output_layer = [\n",
    "    [0.3, 1.1, -0.3],\n",
    "    [0.1, 0.2, 0.0],\n",
    "    [0.0, 1.3, 0.1]\n",
    "]\n",
    "\n",
    "layers = [hidden_layer, output_layer]\n",
    "\n",
    "input = [toes[0], wlrec[0], nfans[0]]\n",
    "predictions = nn3(input, layers)\n",
    "print(f\"{predictions=}\")"
   ]
  },
  {
   "cell_type": "code",
   "execution_count": 27,
   "id": "2970e86d-7d27-4c65-b953-ca984d4fd5d3",
   "metadata": {},
   "outputs": [
    {
     "name": "stdout",
     "output_type": "stream",
     "text": [
      "predictions=array([ 0.496,  1.256, -0.286])\n"
     ]
    }
   ],
   "source": [
    "import numpy as np\n",
    "\n",
    "def nn4(input, layers):\n",
    "    hidden_layer_outputs = input.dot(layers[0])\n",
    "    return hidden_layer_outputs.dot(layers[1])\n",
    "\n",
    "hidden_layer = np.array([\n",
    "    [0.1, 0.2, -0.1],\n",
    "    [-0.1, 0.1, 0.9],\n",
    "    [0.1, 0.4, 0.1]\n",
    "]).T\n",
    "\n",
    "output_layer = np.array([\n",
    "    [0.3, 1.1, -0.3],\n",
    "    [0.1, 0.2, 0.0],\n",
    "    [0.0, 1.3, 0.1]\n",
    "]).T\n",
    "\n",
    "layers = [hidden_layer, output_layer]\n",
    "\n",
    "input = np.array([toes[0], wlrec[0], nfans[0]])\n",
    "predictions = nn4(input, layers)\n",
    "print(f\"{predictions=}\")"
   ]
  },
  {
   "cell_type": "code",
   "execution_count": 28,
   "id": "b4cbd062-49d0-46c6-bd84-25f11af988ca",
   "metadata": {},
   "outputs": [
    {
     "name": "stdout",
     "output_type": "stream",
     "text": [
      "[ 0  5 12 21]\n"
     ]
    }
   ],
   "source": [
    "a = np.array([0, 1, 2, 3])\n",
    "b = np.array([4, 5, 6, 7])\n",
    "print(a*b)"
   ]
  },
  {
   "cell_type": "markdown",
   "id": "0e35e0c7-60ff-4f23-837b-437b2021cbf6",
   "metadata": {},
   "source": [
    "np.array is the common type for both vector and matrix."
   ]
  },
  {
   "cell_type": "code",
   "execution_count": 36,
   "id": "2608861e-2ddc-4307-8a68-f78b304fec28",
   "metadata": {},
   "outputs": [
    {
     "name": "stdout",
     "output_type": "stream",
     "text": [
      "[[0. 0. 0. 0. 0. 0.]\n",
      " [0. 0. 0. 0. 0. 0.]\n",
      " [0. 0. 0. 0. 0. 0.]\n",
      " [0. 0. 0. 0. 0. 0.]]\n"
     ]
    }
   ],
   "source": [
    "h = np.zeros((5, 4))\n",
    "h_t = np.zeros((5, 4)).T\n",
    "i = np.zeros((5, 6))\n",
    "# print(h.dot(i)) # ValueError: operands could not be broadcast together with shapes (5,4) (5,6) \n",
    "print(h_t.dot(i))"
   ]
  },
  {
   "cell_type": "code",
   "execution_count": null,
   "id": "99500698-bfd4-4512-a2f3-fed4c654c023",
   "metadata": {},
   "outputs": [],
   "source": []
  }
 ],
 "metadata": {
  "kernelspec": {
   "display_name": "Python 3 (ipykernel)",
   "language": "python",
   "name": "python3"
  },
  "language_info": {
   "codemirror_mode": {
    "name": "ipython",
    "version": 3
   },
   "file_extension": ".py",
   "mimetype": "text/x-python",
   "name": "python",
   "nbconvert_exporter": "python",
   "pygments_lexer": "ipython3",
   "version": "3.12.3"
  }
 },
 "nbformat": 4,
 "nbformat_minor": 5
}
